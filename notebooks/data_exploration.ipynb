{
 "cells": [
  {
   "cell_type": "code",
   "execution_count": 1,
   "metadata": {},
   "outputs": [],
   "source": [
    "import glob\n",
    "import pandas as pd"
   ]
  },
  {
   "cell_type": "code",
   "execution_count": 2,
   "metadata": {},
   "outputs": [],
   "source": [
    "def _load_data(path):\n",
    "\n",
    "    excel_files = glob.glob(path + \"/*.xls\")\n",
    "    excel_files = sorted(excel_files)\n",
    "    files_list = []\n",
    "\n",
    "    for file_ in excel_files:\n",
    "        df = pd.read_excel(file_, index_col=None, header=0)\n",
    "        files_list.append(df)\n",
    "\n",
    "    return files_list"
   ]
  },
  {
   "cell_type": "code",
   "execution_count": 11,
   "metadata": {},
   "outputs": [],
   "source": [
    "def _convert_df_list_to_dict(list_df):\n",
    "    dict_df = {}\n",
    "    df_names = ['0304', '0405', '0506', '0607', '0708', '0809', '0910', '1011',\n",
    "                '1112', '1213', '1314', '1415', '1516', '1617', '1718', '1819', '1920']\n",
    "\n",
    "    col_names = ['Name', 'Team', 'Pos', 'g', 'm/g', 'p/g', '3/g', 'r/g',\n",
    "                 'a/g', 's/g', 'b/g', 'fg%', 'fga/g', 'ft%', 'fta/g', 'to/g',]\n",
    "\n",
    "    for df, name in zip(list_df, df_names):\n",
    "        dict_df['df_{0}'.format(name)] = df[col_names]\n",
    "    \n",
    "    return dict_df"
   ]
  },
  {
   "cell_type": "code",
   "execution_count": null,
   "metadata": {},
   "outputs": [],
   "source": [
    "# def run_data_pipeline(path):\n",
    "#     dict_df = _convert_df_list_to_dict(_load_data(path))\n",
    "#     return dict_df"
   ]
  },
  {
   "cell_type": "code",
   "execution_count": 3,
   "metadata": {},
   "outputs": [],
   "source": [
    "def _convert_positions(column):\n",
    "    for value in column:\n",
    "        if value == \"PG\" or value == \"SG\" or value == \"PG/SG\":\n",
    "            column = column.replace(value,\"G\")\n",
    "        elif value == \"SF\" or value == \"PF\" or value == \"SF/PF\":\n",
    "            column = column.replace(value,\"F\")\n",
    "        else:\n",
    "            continue\n",
    "    return column"
   ]
  },
  {
   "cell_type": "code",
   "execution_count": null,
   "metadata": {},
   "outputs": [],
   "source": [
    "def _convert_positions1(column):\n",
    "    column = column.replace('PG', 'G')\n",
    "    column = column.replace('SG', 'G')\n",
    "    column = column.replace('PG/SG', 'G')\n",
    "    column = column.replace('SF', 'F')\n",
    "    column = column.replace('PF', 'F')\n",
    "    column = column.replace('SF/PF', 'F')\n",
    "\n",
    "    return column"
   ]
  },
  {
   "cell_type": "code",
   "execution_count": 4,
   "metadata": {},
   "outputs": [],
   "source": [
    "path = \"../data/season_avg\""
   ]
  },
  {
   "cell_type": "code",
   "execution_count": 5,
   "metadata": {},
   "outputs": [],
   "source": [
    "list_df = _load_data(path)"
   ]
  },
  {
   "cell_type": "code",
   "execution_count": 6,
   "metadata": {},
   "outputs": [],
   "source": [
    "df_test = list_df[-1]"
   ]
  },
  {
   "cell_type": "code",
   "execution_count": null,
   "metadata": {},
   "outputs": [],
   "source": []
  },
  {
   "cell_type": "code",
   "execution_count": null,
   "metadata": {},
   "outputs": [],
   "source": [
    "# d = _convert_df_list_to_dict(list_df)"
   ]
  },
  {
   "cell_type": "code",
   "execution_count": null,
   "metadata": {
    "scrolled": true
   },
   "outputs": [],
   "source": [
    "# d['df_1920']['Pos']"
   ]
  },
  {
   "cell_type": "code",
   "execution_count": 7,
   "metadata": {},
   "outputs": [
    {
     "data": {
      "text/plain": [
       "array(['PG/SG', 'PF/C', 'PG', 'SG/SF', 'C', 'SG', 'SF/PF', 'PG/SF/PF',\n",
       "       'PG/SG/SF', 'SF/PF/C', 'SG/SF/PF', 'PF', 'SF'], dtype=object)"
      ]
     },
     "execution_count": 7,
     "metadata": {},
     "output_type": "execute_result"
    }
   ],
   "source": [
    "df_test.Pos.unique()"
   ]
  },
  {
   "cell_type": "code",
   "execution_count": 8,
   "metadata": {},
   "outputs": [],
   "source": [
    "df_test['Pos'] = _convert_positions(df_test['Pos'])"
   ]
  },
  {
   "cell_type": "code",
   "execution_count": 9,
   "metadata": {},
   "outputs": [
    {
     "data": {
      "text/plain": [
       "array(['G', 'PF/C', 'SG/SF', 'C', 'F', 'PG/SF/PF', 'PG/SG/SF', 'SF/PF/C',\n",
       "       'SG/SF/PF'], dtype=object)"
      ]
     },
     "execution_count": 9,
     "metadata": {},
     "output_type": "execute_result"
    }
   ],
   "source": [
    "df_test.Pos.unique()"
   ]
  },
  {
   "cell_type": "code",
   "execution_count": null,
   "metadata": {},
   "outputs": [],
   "source": [
    "df_test['Pos'] = _convert_positions1(df_test['Pos'])"
   ]
  },
  {
   "cell_type": "code",
   "execution_count": null,
   "metadata": {},
   "outputs": [],
   "source": [
    "df_test.Pos.unique()"
   ]
  },
  {
   "cell_type": "code",
   "execution_count": 10,
   "metadata": {},
   "outputs": [
    {
     "data": {
      "text/plain": [
       "array([nan, 'Injured - meniscus surgery (0g) - 1/14/2021',\n",
       "       'Out for season - acl (0g) - 7/1/2021',\n",
       "       'Injured - meniscus surgery (0g) - 1/10/2021',\n",
       "       'Injured - acl (0g) - 1/25/2021',\n",
       "       'Injured - torn achilles (0g) - 1/10/2021',\n",
       "       'Injured - stress fracture foot (0g) - 1/18/2021',\n",
       "       'Injured - hip (0g) - 1/10/2021'], dtype=object)"
      ]
     },
     "execution_count": 10,
     "metadata": {},
     "output_type": "execute_result"
    }
   ],
   "source": [
    "df_test.Inj.unique()"
   ]
  },
  {
   "cell_type": "code",
   "execution_count": null,
   "metadata": {},
   "outputs": [],
   "source": [
    "dict_dfs = _convert"
   ]
  }
 ],
 "metadata": {
  "kernelspec": {
   "display_name": "Python 3",
   "language": "python",
   "name": "python3"
  },
  "language_info": {
   "codemirror_mode": {
    "name": "ipython",
    "version": 3
   },
   "file_extension": ".py",
   "mimetype": "text/x-python",
   "name": "python",
   "nbconvert_exporter": "python",
   "pygments_lexer": "ipython3",
   "version": "3.9.0"
  }
 },
 "nbformat": 4,
 "nbformat_minor": 4
}
